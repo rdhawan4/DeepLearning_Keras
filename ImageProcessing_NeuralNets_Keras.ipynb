{
 "cells": [
  {
   "attachments": {
    "image.png": {
     "image/png": "[encoded data removed]"
    }
   },
   "cell_type": "markdown",
   "id": "d3cbafbf",
   "metadata": {},
   "source": [
    "# Deep Learning for Image Processing using Keras\n",
    "![image.png](attachment:image.png)"
   ]
  },
  {
   "cell_type": "code",
   "execution_count": 29,
   "id": "0b4fc920",
   "metadata": {
    "scrolled": true
   },
   "outputs": [],
   "source": [
    "# How to use Keras for Image Processing\n",
    "# !pip install tensorflow\n",
    "\n",
    "#Import Deep Learning Library : Tensorflow and Keras\n",
    "import tensorflow as tf\n",
    "from tensorflow import keras\n",
    "from keras import backend as b\n",
    "\n",
    "#Import Deep Learning Dataset\n",
    "from keras.datasets import mnist\n",
    "\n",
    "#Import Deep Learning Models\n",
    "from keras.models import Sequential\n",
    "\n",
    "#Import Deep Learning Layers\n",
    "from keras.layers import Conv2D,Convolution2D,Dense,Dropout,Flatten,MaxPool2D,Activation\n",
    "\n",
    "#Import pandas and numpy\n",
    "import pandas as pd\n",
    "import numpy as np\n",
    "\n",
    "# Preprocessing\n",
    "from keras import utils\n",
    "from keras.utils import to_categorical\n",
    "from keras.utils import normalize\n",
    "\n",
    "from keras.utils.vis_utils import plot_model\n",
    "import matplotlib.pyplot as plt"
   ]
  },
  {
   "cell_type": "markdown",
   "id": "7a3032ee",
   "metadata": {},
   "source": [
    "## 1. Import MNIST Datasets"
   ]
  },
  {
   "cell_type": "code",
   "execution_count": 2,
   "id": "59e6cb46",
   "metadata": {},
   "outputs": [],
   "source": [
    "(XTrain,YTrain),(XTest,YTest)=mnist.load_data()"
   ]
  },
  {
   "cell_type": "code",
   "execution_count": 3,
   "id": "9d78bdeb",
   "metadata": {},
   "outputs": [
    {
     "data": {
      "text/plain": [
       "((60000, 28, 28), (60000,), (10000, 28, 28), (10000,))"
      ]
     },
     "execution_count": 3,
     "metadata": {},
     "output_type": "execute_result"
    }
   ],
   "source": [
    "XTrain.shape,YTrain.shape,XTest.shape,YTest.shape"
   ]
  },
  {
   "cell_type": "markdown",
   "id": "cd4d354d",
   "metadata": {},
   "source": [
    "There are 60,000 images with a pixel size of 28 x 28 for training and 10,000 images for testing"
   ]
  },
  {
   "cell_type": "markdown",
   "id": "c8a4d46e",
   "metadata": {},
   "source": [
    "## 2. Understand the data"
   ]
  },
  {
   "cell_type": "code",
   "execution_count": 4,
   "id": "297c918f",
   "metadata": {
    "scrolled": true
   },
   "outputs": [
    {
     "data": {
      "text/plain": [
       "<matplotlib.image.AxesImage at 0x270378a7b20>"
      ]
     },
     "execution_count": 4,
     "metadata": {},
     "output_type": "execute_result"
    },
    {
     "data": {
      "image/png": "[encoded data removed]",
      "text/plain": [
       "<Figure size 432x288 with 1 Axes>"
      ]
     },
     "metadata": {
      "needs_background": "light"
     },
     "output_type": "display_data"
    }
   ],
   "source": [
    "#Plot the first 28 x 28 frame of data\n",
    "plt.imshow(XTrain[0],cmap='binary')"
   ]
  },
  {
   "cell_type": "markdown",
   "id": "b8e500a4",
   "metadata": {},
   "source": [
    "The list of data points below represent the image we see above"
   ]
  },
  {
   "cell_type": "code",
   "execution_count": 5,
   "id": "c6b82f27",
   "metadata": {
    "scrolled": true
   },
   "outputs": [
    {
     "data": {
      "text/plain": [
       "array([[  0,   0,   0,   0,   0,   0,   0,   0,   0,   0,   0,   0,   0,\n",
       "          0,   0,   0,   0,   0,   0,   0,   0,   0,   0,   0,   0,   0,\n",
       "          0,   0],\n",
       "       [  0,   0,   0,   0,   0,   0,   0,   0,   0,   0,   0,   0,   0,\n",
       "          0,   0,   0,   0,   0,   0,   0,   0,   0,   0,   0,   0,   0,\n",
       "          0,   0],\n",
       "       [  0,   0,   0,   0,   0,   0,   0,   0,   0,   0,   0,   0,   0,\n",
       "          0,   0,   0,   0,   0,   0,   0,   0,   0,   0,   0,   0,   0,\n",
       "          0,   0],\n",
       "       [  0,   0,   0,   0,   0,   0,   0,   0,   0,   0,   0,   0,   0,\n",
       "          0,   0,   0,   0,   0,   0,   0,   0,   0,   0,   0,   0,   0,\n",
       "          0,   0],\n",
       "       [  0,   0,   0,   0,   0,   0,   0,   0,   0,   0,   0,   0,   0,\n",
       "          0,   0,   0,   0,   0,   0,   0,   0,   0,   0,   0,   0,   0,\n",
       "          0,   0],\n",
       "       [  0,   0,   0,   0,   0,   0,   0,   0,   0,   0,   0,   0,   3,\n",
       "         18,  18,  18, 126, 136, 175,  26, 166, 255, 247, 127,   0,   0,\n",
       "          0,   0],\n",
       "       [  0,   0,   0,   0,   0,   0,   0,   0,  30,  36,  94, 154, 170,\n",
       "        253, 253, 253, 253, 253, 225, 172, 253, 242, 195,  64,   0,   0,\n",
       "          0,   0],\n",
       "       [  0,   0,   0,   0,   0,   0,   0,  49, 238, 253, 253, 253, 253,\n",
       "        253, 253, 253, 253, 251,  93,  82,  82,  56,  39,   0,   0,   0,\n",
       "          0,   0],\n",
       "       [  0,   0,   0,   0,   0,   0,   0,  18, 219, 253, 253, 253, 253,\n",
       "        253, 198, 182, 247, 241,   0,   0,   0,   0,   0,   0,   0,   0,\n",
       "          0,   0],\n",
       "       [  0,   0,   0,   0,   0,   0,   0,   0,  80, 156, 107, 253, 253,\n",
       "        205,  11,   0,  43, 154,   0,   0,   0,   0,   0,   0,   0,   0,\n",
       "          0,   0],\n",
       "       [  0,   0,   0,   0,   0,   0,   0,   0,   0,  14,   1, 154, 253,\n",
       "         90,   0,   0,   0,   0,   0,   0,   0,   0,   0,   0,   0,   0,\n",
       "          0,   0],\n",
       "       [  0,   0,   0,   0,   0,   0,   0,   0,   0,   0,   0, 139, 253,\n",
       "        190,   2,   0,   0,   0,   0,   0,   0,   0,   0,   0,   0,   0,\n",
       "          0,   0],\n",
       "       [  0,   0,   0,   0,   0,   0,   0,   0,   0,   0,   0,  11, 190,\n",
       "        253,  70,   0,   0,   0,   0,   0,   0,   0,   0,   0,   0,   0,\n",
       "          0,   0],\n",
       "       [  0,   0,   0,   0,   0,   0,   0,   0,   0,   0,   0,   0,  35,\n",
       "        241, 225, 160, 108,   1,   0,   0,   0,   0,   0,   0,   0,   0,\n",
       "          0,   0],\n",
       "       [  0,   0,   0,   0,   0,   0,   0,   0,   0,   0,   0,   0,   0,\n",
       "         81, 240, 253, 253, 119,  25,   0,   0,   0,   0,   0,   0,   0,\n",
       "          0,   0],\n",
       "       [  0,   0,   0,   0,   0,   0,   0,   0,   0,   0,   0,   0,   0,\n",
       "          0,  45, 186, 253, 253, 150,  27,   0,   0,   0,   0,   0,   0,\n",
       "          0,   0],\n",
       "       [  0,   0,   0,   0,   0,   0,   0,   0,   0,   0,   0,   0,   0,\n",
       "          0,   0,  16,  93, 252, 253, 187,   0,   0,   0,   0,   0,   0,\n",
       "          0,   0],\n",
       "       [  0,   0,   0,   0,   0,   0,   0,   0,   0,   0,   0,   0,   0,\n",
       "          0,   0,   0,   0, 249, 253, 249,  64,   0,   0,   0,   0,   0,\n",
       "          0,   0],\n",
       "       [  0,   0,   0,   0,   0,   0,   0,   0,   0,   0,   0,   0,   0,\n",
       "          0,  46, 130, 183, 253, 253, 207,   2,   0,   0,   0,   0,   0,\n",
       "          0,   0],\n",
       "       [  0,   0,   0,   0,   0,   0,   0,   0,   0,   0,   0,   0,  39,\n",
       "        148, 229, 253, 253, 253, 250, 182,   0,   0,   0,   0,   0,   0,\n",
       "          0,   0],\n",
       "       [  0,   0,   0,   0,   0,   0,   0,   0,   0,   0,  24, 114, 221,\n",
       "        253, 253, 253, 253, 201,  78,   0,   0,   0,   0,   0,   0,   0,\n",
       "          0,   0],\n",
       "       [  0,   0,   0,   0,   0,   0,   0,   0,  23,  66, 213, 253, 253,\n",
       "        253, 253, 198,  81,   2,   0,   0,   0,   0,   0,   0,   0,   0,\n",
       "          0,   0],\n",
       "       [  0,   0,   0,   0,   0,   0,  18, 171, 219, 253, 253, 253, 253,\n",
       "        195,  80,   9,   0,   0,   0,   0,   0,   0,   0,   0,   0,   0,\n",
       "          0,   0],\n",
       "       [  0,   0,   0,   0,  55, 172, 226, 253, 253, 253, 253, 244, 133,\n",
       "         11,   0,   0,   0,   0,   0,   0,   0,   0,   0,   0,   0,   0,\n",
       "          0,   0],\n",
       "       [  0,   0,   0,   0, 136, 253, 253, 253, 212, 135, 132,  16,   0,\n",
       "          0,   0,   0,   0,   0,   0,   0,   0,   0,   0,   0,   0,   0,\n",
       "          0,   0],\n",
       "       [  0,   0,   0,   0,   0,   0,   0,   0,   0,   0,   0,   0,   0,\n",
       "          0,   0,   0,   0,   0,   0,   0,   0,   0,   0,   0,   0,   0,\n",
       "          0,   0],\n",
       "       [  0,   0,   0,   0,   0,   0,   0,   0,   0,   0,   0,   0,   0,\n",
       "          0,   0,   0,   0,   0,   0,   0,   0,   0,   0,   0,   0,   0,\n",
       "          0,   0],\n",
       "       [  0,   0,   0,   0,   0,   0,   0,   0,   0,   0,   0,   0,   0,\n",
       "          0,   0,   0,   0,   0,   0,   0,   0,   0,   0,   0,   0,   0,\n",
       "          0,   0]], dtype=uint8)"
      ]
     },
     "execution_count": 5,
     "metadata": {},
     "output_type": "execute_result"
    }
   ],
   "source": [
    "XTrain[0]"
   ]
  },
  {
   "cell_type": "code",
   "execution_count": 6,
   "id": "8ab93072",
   "metadata": {},
   "outputs": [
    {
     "data": {
      "text/plain": [
       "5"
      ]
     },
     "execution_count": 6,
     "metadata": {},
     "output_type": "execute_result"
    }
   ],
   "source": [
    "YTrain[0]"
   ]
  },
  {
   "cell_type": "markdown",
   "id": "a0d6874d",
   "metadata": {},
   "source": [
    "Corresponding to each image, we have a Target assigned to it (Supervised Learning)"
   ]
  },
  {
   "cell_type": "code",
   "execution_count": 7,
   "id": "3f0de787",
   "metadata": {},
   "outputs": [
    {
     "data": {
      "text/plain": [
       "(28, 28)"
      ]
     },
     "execution_count": 7,
     "metadata": {},
     "output_type": "execute_result"
    }
   ],
   "source": [
    "len(XTrain[0]),len(XTrain[0][0])"
   ]
  },
  {
   "cell_type": "markdown",
   "id": "6e9652b7",
   "metadata": {},
   "source": [
    "Each row contains 28 lists with each list having 28 data points. So our image columns and rows are 28 x 28"
   ]
  },
  {
   "cell_type": "code",
   "execution_count": 8,
   "id": "eadf3680",
   "metadata": {},
   "outputs": [],
   "source": [
    "img_cols,img_rows=28,28"
   ]
  },
  {
   "cell_type": "markdown",
   "id": "66a1042f",
   "metadata": {},
   "source": [
    "We observe that the data has a single dimension which indicates lack of color element. This is BW dataset with maximum value of 255 <br>\n",
    "We can use this information to normlize the dataset :\n",
    "- Simply divide data set by 255\n",
    "- Use the Keras.utils.normalize function "
   ]
  },
  {
   "cell_type": "code",
   "execution_count": 9,
   "id": "dd83a07c",
   "metadata": {},
   "outputs": [],
   "source": [
    "# XTrain_div=XTrain/255\n",
    "# XTest_div=XTest/255\n",
    "\n",
    "XTrain_keras=keras.utils.normalize(XTrain)\n",
    "XTest_keras=keras.utils.normalize(XTest)"
   ]
  },
  {
   "cell_type": "code",
   "execution_count": 10,
   "id": "7e1cfcfe",
   "metadata": {},
   "outputs": [],
   "source": [
    "# b.image_data_format()"
   ]
  },
  {
   "cell_type": "markdown",
   "id": "5bb2ee50",
   "metadata": {},
   "source": [
    "Using the Target values Y and applying one-hot encoding using the to_categorical function of keras"
   ]
  },
  {
   "cell_type": "code",
   "execution_count": 11,
   "id": "d7d7f311",
   "metadata": {},
   "outputs": [],
   "source": [
    "YTest=to_categorical(YTest,10)\n",
    "YTrain=to_categorical(YTrain,10)"
   ]
  },
  {
   "cell_type": "code",
   "execution_count": 12,
   "id": "63ebfdb1",
   "metadata": {},
   "outputs": [
    {
     "data": {
      "text/plain": [
       "((60000, 10), (10000, 10))"
      ]
     },
     "execution_count": 12,
     "metadata": {},
     "output_type": "execute_result"
    }
   ],
   "source": [
    "YTrain.shape,YTest.shape"
   ]
  },
  {
   "cell_type": "markdown",
   "id": "260d1ed6",
   "metadata": {},
   "source": [
    "## 3. Building a Neural Network using Keras"
   ]
  },
  {
   "cell_type": "code",
   "execution_count": 13,
   "id": "285f76bb",
   "metadata": {},
   "outputs": [],
   "source": [
    "model=Sequential()\n",
    "\n",
    "#Neural Network Build\n",
    "#Input Layer\n",
    "model.add(Flatten())\n",
    "\n",
    "#Hidden Layer\n",
    "model.add(Dense(128,activation='relu'))\n",
    "model.add(Dense(128,activation='relu'))\n",
    "\n",
    "#Output Layer (n= number of classes)\n",
    "model.add(Dense(10,activation='softmax'))\n",
    "\n",
    "# model.compile()"
   ]
  },
  {
   "cell_type": "code",
   "execution_count": 14,
   "id": "92df0f0b",
   "metadata": {},
   "outputs": [],
   "source": [
    "model.compile(optimizer='adam',loss='categorical_crossentropy',metrics=['accuracy'])"
   ]
  },
  {
   "cell_type": "code",
   "execution_count": 15,
   "id": "da4f1d76",
   "metadata": {},
   "outputs": [
    {
     "name": "stdout",
     "output_type": "stream",
     "text": [
      "Epoch 1/3\n",
      "1875/1875 [==============================] - 3s 2ms/step - loss: 0.2606 - accuracy: 0.9212\n",
      "Epoch 2/3\n",
      "1875/1875 [==============================] - 3s 1ms/step - loss: 0.1044 - accuracy: 0.9680\n",
      "Epoch 3/3\n",
      "1875/1875 [==============================] - 3s 2ms/step - loss: 0.0732 - accuracy: 0.9767\n"
     ]
    },
    {
     "data": {
      "text/plain": [
       "<keras.callbacks.History at 0x27052ee69a0>"
      ]
     },
     "execution_count": 15,
     "metadata": {},
     "output_type": "execute_result"
    }
   ],
   "source": [
    "model.fit(XTrain_keras,YTrain,batch_size=32,epochs=3,verbose=1)\n",
    "# Batch_size = size of each bacth Gradent Decent Concept : Batch, Mini Batch , Each datapoint\n",
    "# Batch Size 32 is default"
   ]
  },
  {
   "cell_type": "markdown",
   "id": "f889b20d",
   "metadata": {},
   "source": [
    "We can also incorporate the testing/evaluation part of our model using the fit function as well as shown below"
   ]
  },
  {
   "cell_type": "code",
   "execution_count": 16,
   "id": "66ea635f",
   "metadata": {},
   "outputs": [
    {
     "name": "stdout",
     "output_type": "stream",
     "text": [
      "Epoch 1/3\n",
      "1875/1875 [==============================] - 4s 2ms/step - loss: 0.0546 - accuracy: 0.9825 - val_loss: 0.0747 - val_accuracy: 0.9782\n",
      "Epoch 2/3\n",
      "1875/1875 [==============================] - 4s 2ms/step - loss: 0.0426 - accuracy: 0.9861 - val_loss: 0.0953 - val_accuracy: 0.9723\n",
      "Epoch 3/3\n",
      "1875/1875 [==============================] - 3s 2ms/step - loss: 0.0353 - accuracy: 0.9875 - val_loss: 0.0822 - val_accuracy: 0.9771\n"
     ]
    },
    {
     "data": {
      "text/plain": [
       "<keras.callbacks.History at 0x2705fb39ee0>"
      ]
     },
     "execution_count": 16,
     "metadata": {},
     "output_type": "execute_result"
    }
   ],
   "source": [
    "model.fit(XTrain_keras,YTrain,batch_size=32,epochs=3,verbose=1,validation_data=[XTest_keras,YTest])"
   ]
  },
  {
   "cell_type": "code",
   "execution_count": 17,
   "id": "4e7aec43",
   "metadata": {},
   "outputs": [
    {
     "name": "stdout",
     "output_type": "stream",
     "text": [
      "Model: \"sequential\"\n",
      "_________________________________________________________________\n",
      " Layer (type)                Output Shape              Param #   \n",
      "=================================================================\n",
      " flatten (Flatten)           (None, 784)               0         \n",
      "                                                                 \n",
      " dense (Dense)               (None, 128)               100480    \n",
      "                                                                 \n",
      " dense_1 (Dense)             (None, 128)               16512     \n",
      "                                                                 \n",
      " dense_2 (Dense)             (None, 10)                1290      \n",
      "                                                                 \n",
      "=================================================================\n",
      "Total params: 118,282\n",
      "Trainable params: 118,282\n",
      "Non-trainable params: 0\n",
      "_________________________________________________________________\n"
     ]
    }
   ],
   "source": [
    "model.summary()"
   ]
  },
  {
   "cell_type": "markdown",
   "id": "642d98e9",
   "metadata": {},
   "source": [
    "We can also save our model "
   ]
  },
  {
   "cell_type": "markdown",
   "id": "b0c0019e",
   "metadata": {},
   "source": [
    "# 4. Predicting using Sequential Model"
   ]
  },
  {
   "cell_type": "code",
   "execution_count": 18,
   "id": "c99b1b52",
   "metadata": {},
   "outputs": [
    {
     "name": "stdout",
     "output_type": "stream",
     "text": [
      "313/313 [==============================] - 0s 1ms/step\n"
     ]
    },
    {
     "data": {
      "text/plain": [
       "array([[7.95185073e-09, 3.72786175e-08, 9.59551471e-05, ...,\n",
       "        9.99903798e-01, 1.35056644e-09, 4.16507326e-08],\n",
       "       [1.78439421e-07, 2.02117972e-05, 9.99761641e-01, ...,\n",
       "        8.72036168e-08, 2.17620822e-04, 3.14869170e-13],\n",
       "       [2.55601495e-11, 9.99978423e-01, 5.89206408e-08, ...,\n",
       "        1.32593077e-05, 1.69943758e-06, 3.71006053e-07],\n",
       "       ...,\n",
       "       [7.84376429e-14, 8.80800544e-10, 1.05573601e-12, ...,\n",
       "        9.40274916e-08, 7.99056110e-09, 5.86309852e-07],\n",
       "       [5.83647264e-08, 8.14709082e-08, 7.88266896e-10, ...,\n",
       "        6.15948348e-10, 1.24486501e-03, 4.49489113e-09],\n",
       "       [8.02669547e-06, 3.71561393e-11, 2.63036881e-09, ...,\n",
       "        4.74922315e-12, 5.66073355e-10, 1.03660816e-10]], dtype=float32)"
      ]
     },
     "execution_count": 18,
     "metadata": {},
     "output_type": "execute_result"
    }
   ],
   "source": [
    "YPred=model.predict(XTest_keras)\n",
    "YPred"
   ]
  },
  {
   "cell_type": "code",
   "execution_count": 19,
   "id": "7d17a5cb",
   "metadata": {},
   "outputs": [
    {
     "data": {
      "text/plain": [
       "7"
      ]
     },
     "execution_count": 19,
     "metadata": {},
     "output_type": "execute_result"
    }
   ],
   "source": [
    "np.argmax(YPred[0])"
   ]
  },
  {
   "cell_type": "code",
   "execution_count": 20,
   "id": "59364b9e",
   "metadata": {},
   "outputs": [
    {
     "data": {
      "text/plain": [
       "<matplotlib.image.AxesImage at 0x2706fc56970>"
      ]
     },
     "execution_count": 20,
     "metadata": {},
     "output_type": "execute_result"
    },
    {
     "data": {
      "image/png": "[encoded data removed]",
      "text/plain": [
       "<Figure size 432x288 with 1 Axes>"
      ]
     },
     "metadata": {
      "needs_background": "light"
     },
     "output_type": "display_data"
    }
   ],
   "source": [
    "plt.imshow(XTest_keras[0],cmap='binary')"
   ]
  },
  {
   "cell_type": "code",
   "execution_count": null,
   "id": "7c8de17e",
   "metadata": {},
   "outputs": [],
   "source": [
    "model.save('BasicNeuralNetwork.model')"
   ]
  },
  {
   "cell_type": "code",
   "execution_count": null,
   "id": "ffa2733b",
   "metadata": {},
   "outputs": [],
   "source": [
    "newmodel=tf.keras.models.load_model('BasicNeuralNetwork.model')"
   ]
  },
  {
   "cell_type": "code",
   "execution_count": null,
   "id": "d59bcae2",
   "metadata": {
    "scrolled": true
   },
   "outputs": [],
   "source": [
    "newmodel.summary()"
   ]
  }
 ],
 "metadata": {
  "kernelspec": {
   "display_name": "Python 3 (ipykernel)",
   "language": "python",
   "name": "python3"
  },
  "language_info": {
   "codemirror_mode": {
    "name": "ipython",
    "version": 3
   },
   "file_extension": ".py",
   "mimetype": "text/x-python",
   "name": "python",
   "nbconvert_exporter": "python",
   "pygments_lexer": "ipython3",
   "version": "3.9.12"
  }
 },
 "nbformat": 4,
 "nbformat_minor": 5
}
